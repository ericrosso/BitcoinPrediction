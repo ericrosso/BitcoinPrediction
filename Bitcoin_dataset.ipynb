{
  "nbformat": 4,
  "nbformat_minor": 0,
  "metadata": {
    "colab": {
      "provenance": [],
      "include_colab_link": true
    },
    "kernelspec": {
      "name": "python3",
      "display_name": "Python 3"
    },
    "language_info": {
      "name": "python"
    }
  },
  "cells": [
    {
      "cell_type": "markdown",
      "metadata": {
        "id": "view-in-github",
        "colab_type": "text"
      },
      "source": [
        "<a href=\"https://colab.research.google.com/github/ericrosso/BitcoinPrediction/blob/main/Bitcoin_dataset.ipynb\" target=\"_parent\"><img src=\"https://colab.research.google.com/assets/colab-badge.svg\" alt=\"Open In Colab\"/></a>"
      ]
    },
    {
      "cell_type": "markdown",
      "source": [
        " Prima di iniziare: Scarico il dataset da google drive con la libreria gdown"
      ],
      "metadata": {
        "id": "4DZmeSwfw2b4"
      }
    },
    {
      "cell_type": "code",
      "source": [
        "!gdown 1u4LyWQvDoWx-Eozmu8dr_X8mHdSzOjl2"
      ],
      "metadata": {
        "id": "6zEguspryI0t",
        "colab": {
          "base_uri": "https://localhost:8080/"
        },
        "outputId": "eff3d7aa-409c-4894-d413-b0555e227ed4"
      },
      "execution_count": null,
      "outputs": [
        {
          "output_type": "stream",
          "name": "stdout",
          "text": [
            "Downloading...\n",
            "From: https://drive.google.com/uc?id=1u4LyWQvDoWx-Eozmu8dr_X8mHdSzOjl2\n",
            "To: /content/bitcoin_data.csv\n",
            "\r  0% 0.00/231k [00:00<?, ?B/s]\r100% 231k/231k [00:00<00:00, 87.2MB/s]\n"
          ]
        }
      ]
    },
    {
      "cell_type": "code",
      "source": [
        "!gdown 15SB2_PIKYoCqDfx7LattasoWl5LJEJWY"
      ],
      "metadata": {
        "colab": {
          "base_uri": "https://localhost:8080/"
        },
        "id": "wneuPK4-oSYJ",
        "outputId": "be5cb197-177e-4a3e-f524-c54e40050423"
      },
      "execution_count": null,
      "outputs": [
        {
          "output_type": "stream",
          "name": "stdout",
          "text": [
            "Downloading...\n",
            "From: https://drive.google.com/uc?id=15SB2_PIKYoCqDfx7LattasoWl5LJEJWY\n",
            "To: /content/readnews.csv\n",
            "\r  0% 0.00/312 [00:00<?, ?B/s]\r100% 312/312 [00:00<00:00, 1.73MB/s]\n"
          ]
        }
      ]
    },
    {
      "cell_type": "markdown",
      "source": [
        "PRIMO STEP: importo tutte le librerie necessarie al funzionamento del codice"
      ],
      "metadata": {
        "id": "pmnUZOc20PfV"
      }
    },
    {
      "cell_type": "code",
      "execution_count": null,
      "metadata": {
        "id": "-vi_uZsewy6k"
      },
      "outputs": [],
      "source": [
        "import numpy as np\n",
        "import pandas as pd\n",
        "from keras.models import Sequential\n",
        "from keras.layers import LSTM, Dense\n",
        "import time\n",
        "import datetime as dt\n",
        "from pandas import read_csv\n",
        "from matplotlib import pyplot\n",
        "from pandas import DataFrame\n",
        "from numpy import array\n",
        "from tensorflow import keras\n",
        "from sklearn.preprocessing import MinMaxScaler"
      ]
    },
    {
      "cell_type": "markdown",
      "source": [
        "SECONDO STEP: leggo il dataset da csv e lo salvo in \"dataset\""
      ],
      "metadata": {
        "id": "sSKnWPlu0q2-"
      }
    },
    {
      "cell_type": "code",
      "source": [
        "dataset = pd.read_csv(\"bitcoin_data.csv\", header=0, index_col=0, parse_dates=False, squeeze=True);"
      ],
      "metadata": {
        "id": "8cnuZezGw2Ge",
        "colab": {
          "base_uri": "https://localhost:8080/"
        },
        "outputId": "dc9d6fe3-a476-48dd-fd37-2c66ef22bd9d"
      },
      "execution_count": null,
      "outputs": [
        {
          "output_type": "stream",
          "name": "stderr",
          "text": [
            "<ipython-input-14-37a6f34daa94>:1: FutureWarning: The squeeze argument has been deprecated and will be removed in a future version. Append .squeeze(\"columns\") to the call to squeeze.\n",
            "\n",
            "\n",
            "  dataset = pd.read_csv(\"bitcoin_data.csv\", header=0, index_col=0, parse_dates=False, squeeze=True);\n"
          ]
        }
      ]
    },
    {
      "cell_type": "markdown",
      "source": [
        "Controllo che il dataset sia stato correttamente caricato"
      ],
      "metadata": {
        "id": "k6sH4NhO9U7g"
      }
    },
    {
      "cell_type": "code",
      "source": [
        "dataset.head(20)"
      ],
      "metadata": {
        "id": "YWQOs3vk90HR"
      },
      "execution_count": null,
      "outputs": []
    },
    {
      "cell_type": "code",
      "source": [
        "dataset.info()"
      ],
      "metadata": {
        "id": "C7NvYP8a-cSA"
      },
      "execution_count": null,
      "outputs": []
    },
    {
      "cell_type": "markdown",
      "source": [
        "TERZO STEP: Creo una funzione per convertire \"dataset\" in un formato adeguato al modello scelto.\n",
        "Alcuni step sono:\n",
        "\n",
        "*   Converto il \"dataset\" in un formato DataFrame (struttura dati di pandas)\n",
        "*   Etichetto le colonne con il nome della colonna\n",
        "*   Rimuovo le colonne con valori nulli\n",
        "\n"
      ],
      "metadata": {
        "id": "RlqQ-VoT01Er"
      }
    },
    {
      "cell_type": "code",
      "source": [
        "def series_to_supervised(data, n_in=1, n_out=1, dropnan=True):\n",
        " \"\"\"\n",
        " Frame a time series as a supervised learning dataset.\n",
        " Arguments:\n",
        " data: Sequence of observations as a list or NumPy array.\n",
        " n_in: Number of lag observations as input (X).\n",
        " n_out: Number of observations as output (y).\n",
        " dropnan: Boolean whether or not to drop rows with NaN values.\n",
        " Returns:\n",
        " Pandas DataFrame of series framed for supervised learning.\n",
        " \"\"\"\n",
        " n_vars = 1 if type(data) is list else data.shape[1]\n",
        " df = DataFrame(data)\n",
        " cols, names = list(), list()\n",
        " # input sequence (t-n, ... t-1)\n",
        " for i in range(n_in, 0, -1):\n",
        "   cols.append(df.shift(i))\n",
        " names += [('var%d(t-%d)' % (j+1, i)) for j in range(n_vars)]\n",
        " # forecast sequence (t, t+1, ... t+n)\n",
        " for i in range(0, n_out):\n",
        "   cols.append(df.shift(-i))\n",
        " if i == 0:\n",
        "   names += [('var%d(t)' % (j+1)) for j in range(n_vars)]\n",
        " else:\n",
        "   names += [('var%d(t+%d)' % (j+1, i)) for j in range(n_vars)]\n",
        " # put it all together\n",
        " agg = pd.concat(cols, axis=1)\n",
        " agg.columns = names\n",
        " print(agg)\n",
        " # drop rows with NaN values\n",
        " if dropnan:\n",
        "   agg.dropna(inplace=True)\n",
        " return agg"
      ],
      "metadata": {
        "id": "tdNBvjuEy3gH"
      },
      "execution_count": null,
      "outputs": []
    },
    {
      "cell_type": "markdown",
      "source": [
        "Eseguo la funzione e salvo il risultato sulla variabile \"values\""
      ],
      "metadata": {
        "id": "OTgRIRGB25yw"
      }
    },
    {
      "cell_type": "code",
      "source": [
        "values = series_to_supervised(dataset.values, n_in=1, n_out=1, dropnan=True).values"
      ],
      "metadata": {
        "id": "HhJpcnRgy4k0"
      },
      "execution_count": null,
      "outputs": []
    },
    {
      "cell_type": "markdown",
      "source": [
        "Imposto la grandezza del dataset per il training e il dataset per il testing (70%,30%)"
      ],
      "metadata": {
        "id": "UzmF6Alc3BRo"
      }
    },
    {
      "cell_type": "code",
      "source": [
        "train_size = int(len(values) * 0.7)\n",
        "train, test = values[:train_size], values[train_size:]"
      ],
      "metadata": {
        "id": "sSMtCHmny7I1"
      },
      "execution_count": null,
      "outputs": []
    },
    {
      "cell_type": "markdown",
      "source": [
        "Tolgo la colonna da prevedere da parte del modello"
      ],
      "metadata": {
        "id": "qcf-gsl-ikUY"
      }
    },
    {
      "cell_type": "code",
      "source": [
        "train_X, train_y = train[:, :-1], train[:, -1]\n",
        "test_X, test_y = test[:, :-1], test[:, -1]\n",
        "print(train_X)"
      ],
      "metadata": {
        "id": "9wt8fHlwzOdq"
      },
      "execution_count": null,
      "outputs": []
    },
    {
      "cell_type": "markdown",
      "source": [
        "Questo reshape cambia il formato dei dati in modo che la data metta le righe in modo sequenziale e non venga considerato come parametro"
      ],
      "metadata": {
        "id": "nf-0NOP94O1n"
      }
    },
    {
      "cell_type": "code",
      "source": [
        "train_X = train_X.reshape((train_X.shape[0], 1, train_X.shape[1]))\n",
        "print(train_X)\n",
        "test_X = test_X.reshape((test_X.shape[0], 1, test_X.shape[1]))"
      ],
      "metadata": {
        "id": "0bX38TnAzS7k"
      },
      "execution_count": null,
      "outputs": []
    },
    {
      "cell_type": "markdown",
      "source": [
        "Dichiaro il modello LTSM (Long Short-Term Memory)[prima riga]  , aggiungo un livello LSTM alla rete neurale  con il dataset finale[seconda e terza riga](128 e 64 rappresentano il nr di unità dell'LSTM). l'ultima riga invece restituirà il valore finale di output. "
      ],
      "metadata": {
        "id": "0RBpF5NfNIZd"
      }
    },
    {
      "cell_type": "code",
      "source": [
        "model = Sequential()\n",
        "model.add(LSTM(128, input_shape=(train_X.shape[1], train_X.shape[2]), return_sequences=True))\n",
        "model.add(LSTM(64))\n",
        "model.add(Dense(1))"
      ],
      "metadata": {
        "id": "zP8OjLHUzU0O"
      },
      "execution_count": null,
      "outputs": []
    },
    {
      "cell_type": "markdown",
      "source": [
        "Compilo il modello e lo faccio eseguire per il modello fit"
      ],
      "metadata": {
        "id": "GY51uYMZ4V9F"
      }
    },
    {
      "cell_type": "code",
      "source": [
        "model.compile(loss='mae', optimizer='adam')\n",
        "history = model.fit(train_X, train_y, epochs=170, batch_size=40, validation_data=(test_X, test_y), verbose=2, shuffle=False)"
      ],
      "metadata": {
        "id": "VwjvWQoVzXMT"
      },
      "execution_count": null,
      "outputs": []
    },
    {
      "cell_type": "markdown",
      "source": [
        "Modello precaricato (prima deve essere caricato da gdown)"
      ],
      "metadata": {
        "id": "SkEbDlUBiwop"
      }
    },
    {
      "cell_type": "code",
      "source": [
        "model = keras.models.load_model('bitcoinmodel.h5')"
      ],
      "metadata": {
        "id": "Y-9AqrTGhr4s"
      },
      "execution_count": null,
      "outputs": []
    },
    {
      "cell_type": "markdown",
      "source": [
        "Previsione dei valori da parte del modello"
      ],
      "metadata": {
        "id": "ucn1UmGPi6If"
      }
    },
    {
      "cell_type": "code",
      "source": [
        "data = pd.DataFrame(np.array([[51500.05703,55556.80394,50416.72833,55385.44519,77199761550,9.96E+11,45695.36703,46962.64088,45060.13319,77.58690461], [55315.91067,55315.91067,53519.69323,53809.13817,88802412237,1.02E+12,45980.74264,47143.80909,45038.1895,70.64797873]]),\n",
        "                   columns=['Open','High','Low','Close','Volume','Market Cap','MA(20)','MA(50)','MA(200)','RSI(14)(SMA)'])\n",
        "valuesdata = series_to_supervised(data.values, n_in=1, n_out=1, dropnan=True).values\n",
        "print(valuesdata)\n",
        "train_X, train_y = valuesdata[:, :-1], valuesdata[:, -1]\n",
        "#print(train_X)\n",
        "train_X = train_X.reshape((train_X.shape[0], 1, train_X.shape[1]))\n",
        "#print(train_X)\n",
        "new_output = model.predict(train_X)\n",
        "print(new_output[0,0])"
      ],
      "metadata": {
        "id": "5JQKC7isGKu7"
      },
      "execution_count": null,
      "outputs": []
    },
    {
      "cell_type": "markdown",
      "source": [
        "Salvo il modello in locale"
      ],
      "metadata": {
        "id": "T7HwAhe-i-P0"
      }
    },
    {
      "cell_type": "code",
      "source": [
        "model.save(\"bitcoinmodel.h5\")"
      ],
      "metadata": {
        "id": "WxHLw_bQ9V3h"
      },
      "execution_count": null,
      "outputs": []
    },
    {
      "cell_type": "markdown",
      "source": [
        "Grafico per visualizzare la perdita media per ogni epoca"
      ],
      "metadata": {
        "id": "BR2FaqFx4wdt"
      }
    },
    {
      "cell_type": "code",
      "source": [
        "pyplot.plot(history.history['loss'], label='train')\n",
        "pyplot.plot(history.history['val_loss'], label='test')\n",
        "pyplot.legend()\n",
        "pyplot.show()"
      ],
      "metadata": {
        "id": "8kXx6zbAzZxq"
      },
      "execution_count": null,
      "outputs": []
    }
  ]
}